{
 "cells": [
  {
   "cell_type": "markdown",
   "id": "c7577875",
   "metadata": {},
   "source": [
    "## Datasets and Dataloaders\n",
    "https://pytorch.org/tutorials/beginner/basics/quickstart_tutorial.html\n",
    "PyTorch provides two data primitives: `torch.utils.data.DataLoader` and `torch.utils.data.Dataset` that allow you to use pre-loaded datasets as well as your own data.\n",
    "\n",
    "**Fashion-MNIST** \n",
    "- 28 pixels * 28 pixels\n",
    "- gray scale 0-255\n",
    "- 10 classes"
   ]
  },
  {
   "cell_type": "code",
   "execution_count": 1,
   "id": "d66820b4",
   "metadata": {
    "ExecuteTime": {
     "end_time": "2022-08-02T01:54:06.359249Z",
     "start_time": "2022-08-02T01:54:02.864786Z"
    }
   },
   "outputs": [],
   "source": [
    "from torchvision.transforms import ToTensor\n",
    "from torchvision import datasets\n",
    "from torch.utils.data import DataLoader\n",
    "from torch import nn\n",
    "import torch\n",
    "import matplotlib.pyplot as plt\n",
    "%matplotlib inline\n",
    "\n",
    "training_data = datasets.FashionMNIST(\n",
    "    root=\"data\",  # root 是train/test存储的位置\n",
    "    train=True,  # 表明是否是训练集   \n",
    "    download=True, # download=True downloads the data from the internet if it’s not available at root.\n",
    "    transform=ToTensor()\n",
    ")\n",
    "\n",
    "test_data = datasets.FashionMNIST(\n",
    "    root=\"data\",\n",
    "    train=False,\n",
    "    download=True,\n",
    "    transform=ToTensor()\n",
    ")"
   ]
  },
  {
   "cell_type": "markdown",
   "id": "79d220c7",
   "metadata": {},
   "source": [
    "每一条training_data是一个tuple，含有图片的tensor和label"
   ]
  },
  {
   "cell_type": "code",
   "execution_count": 2,
   "id": "e3826323",
   "metadata": {
    "ExecuteTime": {
     "end_time": "2022-08-02T01:54:06.373163Z",
     "start_time": "2022-08-02T01:54:06.364005Z"
    }
   },
   "outputs": [
    {
     "name": "stdout",
     "output_type": "stream",
     "text": [
      "torch.Size([1, 28, 28])\n",
      "label: 9\n"
     ]
    }
   ],
   "source": [
    "print(training_data[0][0].shape)\n",
    "print(f\"label: {training_data[0][1]}\")\n"
   ]
  },
  {
   "cell_type": "code",
   "execution_count": 3,
   "id": "f7964202",
   "metadata": {
    "ExecuteTime": {
     "end_time": "2022-08-02T01:54:09.943281Z",
     "start_time": "2022-08-02T01:54:06.376733Z"
    }
   },
   "outputs": [
    {
     "name": "stdout",
     "output_type": "stream",
     "text": [
      "Shape of X [N,C,H,W]: torch.Size([64, 1, 28, 28])\n",
      "shape of y: torch.Size([64]), torch.int64\n",
      "tensor([9, 2, 1, 1, 6, 1, 4, 6, 5, 7, 4, 5, 7, 3, 4, 1, 2, 4, 8, 0, 2, 5, 7, 9,\n",
      "        1, 4, 6, 0, 9, 3, 8, 8, 3, 3, 8, 0, 7, 5, 7, 9, 6, 1, 3, 7, 6, 7, 2, 1,\n",
      "        2, 2, 4, 4, 5, 8, 2, 2, 8, 4, 8, 0, 7, 7, 8, 5])\n"
     ]
    }
   ],
   "source": [
    "batchsize= 64\n",
    "# create data_loader\n",
    "train_dataloader = DataLoader(training_data, batchsize, shuffle=True, num_workers=4)\n",
    "test_dataloader = DataLoader(test_data, batchsize, num_workers=4)\n",
    "\n",
    "for X,y in test_dataloader:\n",
    "    print(f\"Shape of X [N,C,H,W]: {X.shape}\")\n",
    "    print(f\"shape of y: {y.shape}, {y.dtype}\")\n",
    "    print(y)\n",
    "    \n",
    "    break    \n"
   ]
  },
  {
   "cell_type": "code",
   "execution_count": 4,
   "id": "d59535b5",
   "metadata": {
    "ExecuteTime": {
     "end_time": "2022-08-02T01:54:10.410336Z",
     "start_time": "2022-08-02T01:54:09.951658Z"
    }
   },
   "outputs": [
    {
     "data": {
      "image/png": "[encoded data removed]",
      "text/plain": [
       "<Figure size 576x576 with 9 Axes>"
      ]
     },
     "metadata": {
      "needs_background": "light"
     },
     "output_type": "display_data"
    }
   ],
   "source": [
    "labels_map = {\n",
    "    0: \"T-Shirt\",\n",
    "    1: \"Trouser\",\n",
    "    2: \"Pullover\",\n",
    "    3: \"Dress\",\n",
    "    4: \"Coat\",\n",
    "    5: \"Sandal\",\n",
    "    6: \"Shirt\",\n",
    "    7: \"Sneaker\",\n",
    "    8: \"Bag\",\n",
    "    9: \"Ankle Boot\",\n",
    "}\n",
    "figure = plt.figure(figsize=(8, 8))\n",
    "cols, rows = 3, 3\n",
    "for i in range(1, cols * rows + 1):\n",
    "    sample_idx = torch.randint(len(training_data), size=(1,)).item()\n",
    "    img, label = training_data[sample_idx]\n",
    "    figure.add_subplot(rows, cols, i)\n",
    "    plt.title(labels_map[label])\n",
    "    plt.axis(\"off\")\n",
    "    plt.imshow(img.squeeze(), cmap=\"gray\")\n",
    "plt.show()"
   ]
  },
  {
   "cell_type": "markdown",
   "id": "38d6c055",
   "metadata": {},
   "source": [
    "## custom dataset for your project\n",
    "\n",
    "A custom Dataset class must implement three functions: `__init__`, `__len__`, and `__getitem__`. Take a look at this implementation; the FashionMNIST images are stored in a directory `img_dir`, and their labels are stored separately in a CSV file `annotations_file`.\n",
    "\n",
    "The labels.csv file looks like:\n",
    "\n",
    "> tshirt1.jpg, 0  \n",
    "> tshirt2.jpg, 0  \n",
    "> ......  \n",
    "> ankleboot999.jpg, 9  \n"
   ]
  },
  {
   "cell_type": "code",
   "execution_count": 5,
   "id": "db6edf53",
   "metadata": {
    "ExecuteTime": {
     "end_time": "2022-08-02T01:54:11.129189Z",
     "start_time": "2022-08-02T01:54:10.413184Z"
    }
   },
   "outputs": [],
   "source": [
    "import os\n",
    "import pandas as pd\n",
    "from torchvision.io import read_image\n",
    "from torch.utils.data import Dataset\n",
    "\n",
    "\n",
    "class CustomImageDataset(Dataset):\n",
    "    def __init__(self, annotations_file, img_dir, transform=None, target_transform=None):\n",
    "        self.img_labels = pd.read_csv(annotations_file)\n",
    "        self.img_dir = img_dir\n",
    "        self.transform = transform\n",
    "        self.target_transform = target_transform\n",
    "\n",
    "    def __len__(self):\n",
    "        return len(self.img_labels)\n",
    "\n",
    "    def __getitem__(self, idx):  \n",
    "        \"\"\"loads and returns a sample from the dataset at the given index idx.\"\"\"\n",
    "        img_path = os.path.join(self.img_dir, self.img_labels.iloc[idx, 0])\n",
    "        image = read_image(img_path)\n",
    "        label = self.image_labels.iloc[idx, 1]\n",
    "        if self.transform:\n",
    "            image = self.transform(image)\n",
    "        if self.target_transform:\n",
    "            label = self.target_transform(label)\n",
    "        return image, label"
   ]
  },
  {
   "cell_type": "markdown",
   "id": "69fe242f",
   "metadata": {},
   "source": [
    "## Preparing your data for training with DataLoaders\n",
    "\n",
    "\n"
   ]
  },
  {
   "cell_type": "code",
   "execution_count": 6,
   "id": "5a5e8b78",
   "metadata": {
    "ExecuteTime": {
     "end_time": "2022-08-02T01:54:11.139056Z",
     "start_time": "2022-08-02T01:54:11.134005Z"
    }
   },
   "outputs": [
    {
     "name": "stdout",
     "output_type": "stream",
     "text": [
      "Using cpu device\n"
     ]
    }
   ],
   "source": [
    "device = 'cuda' if torch.cuda.is_available() else 'cpu'\n",
    "print(f\"Using {device} device\")\n"
   ]
  },
  {
   "cell_type": "code",
   "execution_count": 7,
   "id": "73429034",
   "metadata": {
    "ExecuteTime": {
     "end_time": "2022-08-02T01:54:11.157896Z",
     "start_time": "2022-08-02T01:54:11.143174Z"
    }
   },
   "outputs": [
    {
     "name": "stdout",
     "output_type": "stream",
     "text": [
      "NeuralNetwork(\n",
      "  (flatten): Flatten(start_dim=1, end_dim=-1)\n",
      "  (linear_relu_stack): Sequential(\n",
      "    (0): Linear(in_features=784, out_features=512, bias=True)\n",
      "    (1): ReLU()\n",
      "    (2): Linear(in_features=512, out_features=512, bias=True)\n",
      "    (3): ReLU()\n",
      "    (4): Linear(in_features=512, out_features=10, bias=True)\n",
      "  )\n",
      ")\n"
     ]
    }
   ],
   "source": [
    "class NeuralNetwork(nn.Module):\n",
    "    def __init__(self):\n",
    "        super(NeuralNetwork, self).__init__()\n",
    "        self.flatten = nn.Flatten()\n",
    "        self.linear_relu_stack = nn.Sequential(  # 各层的用法参考https://pytorch.org/tutorials/beginner/basics/buildmodel_tutorial.html\n",
    "            nn.Linear(28*28, 512),\n",
    "            nn.ReLU(),\n",
    "            nn.Linear(512,512),\n",
    "            nn.ReLU(),\n",
    "            nn.Linear(512, 10)\n",
    "        )\n",
    "        \n",
    "    def forward(self, x):\n",
    "        x = self.flatten(x)\n",
    "        logits = self.linear_relu_stack(x)\n",
    "        return logits\n",
    "\n",
    "\n",
    "model = NeuralNetwork().to(device)\n",
    "print(model)"
   ]
  },
  {
   "cell_type": "markdown",
   "id": "f10fbedd",
   "metadata": {},
   "source": [
    "更多loss function见nn module中 https://pytorch.org/docs/stable/nn.html#loss-functions\n",
    "\n",
    "更多的optimizer见torch.optim https://pytorch.org/docs/stable/optim.html"
   ]
  },
  {
   "cell_type": "code",
   "execution_count": 8,
   "id": "264cbbb0",
   "metadata": {
    "ExecuteTime": {
     "end_time": "2022-08-02T01:54:11.172880Z",
     "start_time": "2022-08-02T01:54:11.161115Z"
    }
   },
   "outputs": [],
   "source": [
    "loss_fn = nn.CrossEntropyLoss()  #交叉熵，用于分类问题，第一个参数是预测的softmax向量，第二个参数是真实的class label\n",
    "#  更多loss function见nn module中 https://pytorch.org/docs/stable/nn.html#loss-functions\n",
    "optimizer = torch.optim.SGD(model.parameters(), lr=1e-3)\n",
    "\n",
    "def train(dataloader, model, loss_fn, optimizer):\n",
    "    size = len(dataloader.dataset)\n",
    "    model.train()  # set model in train mode\n",
    "    for batch, (X, y) in enumerate(dataloader):\n",
    "        X, y = X.to(device), y.to(device)\n",
    "\n",
    "        pred = model(X)\n",
    "        loss = loss_fn(pred, y)\n",
    "\n",
    "        optimizer.zero_grad()\n",
    "        loss.backward()\n",
    "        optimizer.step()\n",
    "\n",
    "        if batch % 100 == 0:\n",
    "            loss, current = loss.item(), batch*len(X)\n",
    "            print(f\"loss:{loss:>7f} [{current:>5d}/{size:5d}]\")\n",
    "\n",
    "\n",
    "def test(dataloader, model, loss_fn):\n",
    "    size = len(dataloader.dataset)\n",
    "    num_batches = len(dataloader)\n",
    "    # set model in evaluation mode, This is equivalent with self.train(False).\n",
    "    model.eval()\n",
    "    testloss = 0\n",
    "    correct = 0\n",
    "    with torch.no_grad():\n",
    "        \"\"\"关于torch.no_grad()\n",
    "        Context-manager that disabled gradient calculation.\n",
    "        \n",
    "        Disabling gradient calculation is useful for inference, \n",
    "        when you are sure that you will not call Tensor.backward(). \n",
    "        It will reduce memory consumption for computations that \n",
    "        would otherwise have requires_grad=True.\n",
    "        \n",
    "        see also https://pytorch.org/docs/stable/generated/torch.no_grad.html\n",
    "        \"\"\" \n",
    "        for X,y in dataloader:\n",
    "            X, y= X.to(device), y.to(device)\n",
    "            pred= model(X)\n",
    "            testloss += loss_fn(pred, y)\n",
    "            correct += (pred.argmax(1) == y).type(torch.float).sum().item()\n",
    "    testloss /= num_batches\n",
    "    correct /= size\n",
    "    print(f\"test error: \\n Accurancy {(100*correct):>0.1f}%, avg loss: {testloss:>8f}\\n\")    \n",
    "    \n",
    "    \n",
    "    "
   ]
  },
  {
   "cell_type": "code",
   "execution_count": 9,
   "id": "7cb88301",
   "metadata": {
    "ExecuteTime": {
     "end_time": "2022-08-02T01:55:06.754304Z",
     "start_time": "2022-08-02T01:54:11.176181Z"
    },
    "scrolled": true
   },
   "outputs": [
    {
     "name": "stdout",
     "output_type": "stream",
     "text": [
      "Epoch 1\n",
      "-------------------------------\n",
      "loss:2.313266 [    0/60000]\n",
      "loss:2.294425 [ 6400/60000]\n",
      "loss:2.278476 [12800/60000]\n",
      "loss:2.261252 [19200/60000]\n",
      "loss:2.244133 [25600/60000]\n",
      "loss:2.227233 [32000/60000]\n",
      "loss:2.235907 [38400/60000]\n",
      "loss:2.196400 [44800/60000]\n",
      "loss:2.171042 [51200/60000]\n",
      "loss:2.163705 [57600/60000]\n",
      "test error: \n",
      " Accurancy 41.0%, avg loss: 2.163406\n",
      "\n",
      "Epoch 2\n",
      "-------------------------------\n",
      "loss:2.151978 [    0/60000]\n",
      "loss:2.154771 [ 6400/60000]\n",
      "loss:2.107452 [12800/60000]\n",
      "loss:2.089332 [19200/60000]\n",
      "loss:2.070731 [25600/60000]\n",
      "loss:2.053406 [32000/60000]\n",
      "loss:2.002451 [38400/60000]\n",
      "loss:1.966296 [44800/60000]\n",
      "loss:1.971388 [51200/60000]\n",
      "loss:1.918878 [57600/60000]\n",
      "test error: \n",
      " Accurancy 56.3%, avg loss: 1.906789\n",
      "\n",
      "Epoch 3\n",
      "-------------------------------\n",
      "loss:1.918681 [    0/60000]\n",
      "loss:1.891175 [ 6400/60000]\n",
      "loss:1.819845 [12800/60000]\n",
      "loss:1.748843 [19200/60000]\n",
      "loss:1.753563 [25600/60000]\n",
      "loss:1.728658 [32000/60000]\n",
      "loss:1.663056 [38400/60000]\n",
      "loss:1.661188 [44800/60000]\n",
      "loss:1.592788 [51200/60000]\n",
      "loss:1.523375 [57600/60000]\n",
      "test error: \n",
      " Accurancy 61.5%, avg loss: 1.539283\n",
      "\n",
      "Epoch 4\n",
      "-------------------------------\n",
      "loss:1.523342 [    0/60000]\n",
      "loss:1.395335 [ 6400/60000]\n",
      "loss:1.497602 [12800/60000]\n",
      "loss:1.477255 [19200/60000]\n",
      "loss:1.505872 [25600/60000]\n",
      "loss:1.386167 [32000/60000]\n",
      "loss:1.396571 [38400/60000]\n",
      "loss:1.296944 [44800/60000]\n",
      "loss:1.294362 [51200/60000]\n",
      "loss:1.329981 [57600/60000]\n",
      "test error: \n",
      " Accurancy 63.3%, avg loss: 1.268891\n",
      "\n",
      "Epoch 5\n",
      "-------------------------------\n",
      "loss:1.301747 [    0/60000]\n",
      "loss:1.141706 [ 6400/60000]\n",
      "loss:1.274886 [12800/60000]\n",
      "loss:1.142091 [19200/60000]\n",
      "loss:1.151398 [25600/60000]\n",
      "loss:1.171535 [32000/60000]\n",
      "loss:0.977901 [38400/60000]\n",
      "loss:1.149092 [44800/60000]\n",
      "loss:1.080628 [51200/60000]\n",
      "loss:1.124974 [57600/60000]\n",
      "test error: \n",
      " Accurancy 64.6%, avg loss: 1.101813\n",
      "\n",
      "Done!\n"
     ]
    }
   ],
   "source": [
    "epochs = 5\n",
    "for t in range(epochs):\n",
    "    print(f\"Epoch {t+1}\\n-------------------------------\")\n",
    "    train(train_dataloader, model, loss_fn, optimizer)\n",
    "    test(test_dataloader, model, loss_fn)\n",
    "print(\"Done!\")"
   ]
  },
  {
   "cell_type": "markdown",
   "id": "c8cca40b",
   "metadata": {},
   "source": [
    "## save &load models\n"
   ]
  },
  {
   "cell_type": "code",
   "execution_count": 10,
   "id": "0988b2ef",
   "metadata": {
    "ExecuteTime": {
     "end_time": "2022-08-02T01:55:06.777191Z",
     "start_time": "2022-08-02T01:55:06.764020Z"
    }
   },
   "outputs": [
    {
     "name": "stdout",
     "output_type": "stream",
     "text": [
      "Saved PyTorch Model State to model.pth\n"
     ]
    }
   ],
   "source": [
    "torch.save(model.state_dict(), \"model.pth\")  # 这样会存储在当前文件目录下\n",
    "print(\"Saved PyTorch Model State to model.pth\")"
   ]
  },
  {
   "cell_type": "markdown",
   "id": "37a59558",
   "metadata": {},
   "source": [
    "To load model weights, you need to create an instance of the same model first, and then load the parameters using `load_state_dict()` method."
   ]
  },
  {
   "cell_type": "code",
   "execution_count": 11,
   "id": "1c394576",
   "metadata": {
    "ExecuteTime": {
     "end_time": "2022-08-02T01:55:06.802596Z",
     "start_time": "2022-08-02T01:55:06.780672Z"
    }
   },
   "outputs": [
    {
     "name": "stdout",
     "output_type": "stream",
     "text": [
      "Predicted: \"Ankle boot\", Actual: \"Ankle boot\"\n"
     ]
    }
   ],
   "source": [
    "model = NeuralNetwork()\n",
    "model.load_state_dict(torch.load(\"model.pth\"))\n",
    "\n",
    "\n",
    "classes = [\n",
    "    \"T-shirt/top\",\n",
    "    \"Trouser\",\n",
    "    \"Pullover\",\n",
    "    \"Dress\",\n",
    "    \"Coat\",\n",
    "    \"Sandal\",\n",
    "    \"Shirt\",\n",
    "    \"Sneaker\",\n",
    "    \"Bag\",\n",
    "    \"Ankle boot\",\n",
    "]\n",
    "\n",
    "model.eval()\n",
    "x, y = test_data[0][0], test_data[0][1]\n",
    "with torch.no_grad():\n",
    "    pred = model(x)\n",
    "    predicted, actual = classes[pred[0].argmax(0)], classes[y]\n",
    "    print(f'Predicted: \"{predicted}\", Actual: \"{actual}\"')"
   ]
  },
  {
   "cell_type": "markdown",
   "id": "90a6e1f8",
   "metadata": {},
   "source": [
    "## Saving and Loading Models with Shapes\n",
    "\n",
    "When loading model weights, we needed to instantiate the model class first, because the class defines the structure of a network. We might want to save the structure of this class together with the model, in which case we can pass `model` (and not `model.state_dict()`) to the saving function:"
   ]
  },
  {
   "cell_type": "raw",
   "id": "c109d7d6",
   "metadata": {},
   "source": [
    "torch.save(model, 'model.pth')\n",
    "#  then load like:\n",
    "model = torch.load('model.pth')"
   ]
  },
  {
   "cell_type": "markdown",
   "id": "b14e4dc0",
   "metadata": {},
   "source": [
    "## Optimizing the model paramet|ers"
   ]
  },
  {
   "cell_type": "code",
   "execution_count": 12,
   "id": "ffdca89d",
   "metadata": {
    "ExecuteTime": {
     "end_time": "2022-08-02T01:55:06.810982Z",
     "start_time": "2022-08-02T01:55:06.806694Z"
    }
   },
   "outputs": [],
   "source": [
    "loss_fn = nn.CrossEntropyLoss()\n",
    "optimizer = torch.optim.SGD(model.parameters(), lr=1e-3)\n"
   ]
  },
  {
   "cell_type": "markdown",
   "id": "13822846",
   "metadata": {},
   "source": [
    "## tensorboard support"
   ]
  },
  {
   "cell_type": "code",
   "execution_count": 19,
   "id": "b989ea8f",
   "metadata": {
    "ExecuteTime": {
     "end_time": "2022-08-02T01:59:16.655157Z",
     "start_time": "2022-08-02T01:59:13.668601Z"
    }
   },
   "outputs": [],
   "source": [
    "# PyTorch model and training necessities\n",
    "import torch\n",
    "import torch.nn as nn\n",
    "import torch.nn.functional as F\n",
    "import torch.optim as optim\n",
    "\n",
    "# Image datasets and image manipulation\n",
    "import torchvision\n",
    "import torchvision.transforms as transforms\n",
    "\n",
    "# Image display\n",
    "import matplotlib.pyplot as plt\n",
    "import numpy as np\n",
    "\n",
    "# PyTorch TensorBoard support\n",
    "from torch.utils.tensorboard import SummaryWriter\n",
    "\n",
    "# Extract a batch of 4 images\n",
    "dataiter = iter(train_dataloader)\n",
    "images, labels = dataiter.next()\n",
    "\n",
    "# Create a grid from the images and show them\n",
    "img_grid = torchvision.utils.make_grid(images)\n",
    "#matplotlib_imshow(img_grid, one_channel=True)\n",
    "# Default log_dir argument is \"runs\" - but it's good to be specific\n",
    "# torch.utils.tensorboard.SummaryWriter is imported above\n",
    "writer = SummaryWriter('runs/fashion_mnist_experiment_1')\n",
    "\n",
    "# Write image data to TensorBoard log dir\n",
    "writer.add_image('Four Fashion-MNIST Images', img_grid)\n",
    "writer.flush()\n",
    "\n",
    "# To view, start TensorBoard on the command line with:\n",
    "#   tensorboard --logdir=runs\n",
    "# ...and open a browser tab to http://localhost:6006/"
   ]
  },
  {
   "cell_type": "markdown",
   "id": "29173929",
   "metadata": {},
   "source": [
    "## Graphing Scalars to Visualize Training"
   ]
  },
  {
   "cell_type": "code",
   "execution_count": 20,
   "id": "505cc33d",
   "metadata": {
    "ExecuteTime": {
     "end_time": "2022-08-02T02:03:02.968402Z",
     "start_time": "2022-08-02T02:03:02.953846Z"
    }
   },
   "outputs": [],
   "source": [
    "class Net(nn.Module):\n",
    "    def __init__(self):\n",
    "        super(Net, self).__init__()\n",
    "        self.conv1 = nn.Conv2d(1, 6, 5)\n",
    "        self.pool = nn.MaxPool2d(2, 2)\n",
    "        self.conv2 = nn.Conv2d(6, 16, 5)\n",
    "        self.fc1 = nn.Linear(16 * 4 * 4, 120)\n",
    "        self.fc2 = nn.Linear(120, 84)\n",
    "        self.fc3 = nn.Linear(84, 10)\n",
    "\n",
    "    def forward(self, x):\n",
    "        x = self.pool(F.relu(self.conv1(x)))\n",
    "        x = self.pool(F.relu(self.conv2(x)))\n",
    "        x = x.view(-1, 16 * 4 * 4)\n",
    "        x = F.relu(self.fc1(x))\n",
    "        x = F.relu(self.fc2(x))\n",
    "        x = self.fc3(x)\n",
    "        return x\n",
    "\n",
    "\n",
    "net = Net()\n",
    "criterion = nn.CrossEntropyLoss()\n",
    "optimizer = optim.SGD(net.parameters(), lr=0.001, momentum=0.9)"
   ]
  },
  {
   "cell_type": "code",
   "execution_count": 25,
   "id": "364efa85",
   "metadata": {
    "ExecuteTime": {
     "end_time": "2022-08-02T02:11:05.336031Z",
     "start_time": "2022-08-02T02:05:55.203674Z"
    }
   },
   "outputs": [
    {
     "name": "stdout",
     "output_type": "stream",
     "text": [
      "157\n",
      "Batch 10\n",
      "Batch 20\n",
      "Batch 30\n",
      "Batch 40\n",
      "Batch 50\n",
      "Batch 60\n",
      "Batch 70\n",
      "Batch 80\n",
      "Batch 90\n",
      "Batch 100\n",
      "Batch 110\n",
      "Batch 120\n",
      "Batch 130\n",
      "Batch 140\n",
      "Batch 150\n",
      "Batch 160\n",
      "Batch 170\n",
      "Batch 180\n",
      "Batch 190\n",
      "Batch 200\n",
      "Batch 210\n",
      "Batch 220\n",
      "Batch 230\n",
      "Batch 240\n",
      "Batch 250\n",
      "Batch 260\n",
      "Batch 270\n",
      "Batch 280\n",
      "Batch 290\n",
      "Batch 300\n",
      "Batch 310\n",
      "Batch 320\n",
      "Batch 330\n",
      "Batch 340\n",
      "Batch 350\n",
      "Batch 360\n",
      "Batch 370\n",
      "Batch 380\n",
      "Batch 390\n",
      "Batch 400\n",
      "Batch 410\n",
      "Batch 420\n",
      "Batch 430\n",
      "Batch 440\n",
      "Batch 450\n",
      "Batch 460\n",
      "Batch 470\n",
      "Batch 480\n",
      "Batch 490\n",
      "Batch 500\n",
      "Batch 510\n",
      "Batch 520\n",
      "Batch 530\n",
      "Batch 540\n",
      "Batch 550\n",
      "Batch 560\n",
      "Batch 570\n",
      "Batch 580\n",
      "Batch 590\n",
      "Batch 600\n",
      "Batch 610\n",
      "Batch 620\n",
      "Batch 630\n",
      "Batch 640\n",
      "Batch 650\n",
      "Batch 660\n",
      "Batch 670\n",
      "Batch 680\n",
      "Batch 690\n",
      "Batch 700\n",
      "Batch 710\n",
      "Batch 720\n",
      "Batch 730\n",
      "Batch 740\n",
      "Batch 750\n",
      "Batch 760\n",
      "Batch 770\n",
      "Batch 780\n",
      "Batch 790\n",
      "Batch 800\n",
      "Batch 810\n",
      "Batch 820\n",
      "Batch 830\n",
      "Batch 840\n",
      "Batch 850\n",
      "Batch 860\n",
      "Batch 870\n",
      "Batch 880\n",
      "Batch 890\n",
      "Batch 900\n",
      "Batch 910\n",
      "Batch 920\n",
      "Batch 930\n",
      "Finished Training\n"
     ]
    }
   ],
   "source": [
    "print(len(test_dataloader))\n",
    "for epoch in range(1):  # loop over the dataset multiple times\n",
    "    running_loss = 0.0\n",
    "\n",
    "    for i, data in enumerate(train_dataloader, 0):\n",
    "        # basic training loop\n",
    "        inputs, labels = data\n",
    "        optimizer.zero_grad()\n",
    "        outputs = net(inputs)\n",
    "        loss = criterion(outputs, labels)\n",
    "        loss.backward()\n",
    "        optimizer.step()\n",
    "\n",
    "        running_loss += loss.item()\n",
    "        if i % 10 == 9:    # Every 1000 mini-batches...\n",
    "            print('Batch {}'.format(i + 1))\n",
    "            # Check against the validation set\n",
    "            running_vloss = 0.0\n",
    "\n",
    "            net.train(False) # Don't need to track gradents for validation\n",
    "            for j, vdata in enumerate(test_dataloader, 0):\n",
    "                vinputs, vlabels = vdata\n",
    "                voutputs = net(vinputs)\n",
    "                vloss = criterion(voutputs, vlabels)\n",
    "                running_vloss += vloss.item()\n",
    "            net.train(True) # Turn gradients back on for training\n",
    "\n",
    "            avg_loss = running_loss / 10\n",
    "            avg_vloss = running_vloss / len(test_dataloader)\n",
    "\n",
    "            # Log the running loss averaged per batch\n",
    "            writer.add_scalars('Training vs. Validation Loss',\n",
    "                            { 'Training' : avg_loss, 'Validation' : avg_vloss },\n",
    "                            epoch * len(train_dataloader) + i)\n",
    "\n",
    "            running_loss = 0.0\n",
    "print('Finished Training')\n",
    "\n",
    "writer.flush()"
   ]
  },
  {
   "cell_type": "code",
   "execution_count": null,
   "id": "5a02b688",
   "metadata": {},
   "outputs": [],
   "source": []
  }
 ],
 "metadata": {
  "kernelspec": {
   "display_name": "Python 3 (ipykernel)",
   "language": "python",
   "name": "python3"
  },
  "language_info": {
   "codemirror_mode": {
    "name": "ipython",
    "version": 3
   },
   "file_extension": ".py",
   "mimetype": "text/x-python",
   "name": "python",
   "nbconvert_exporter": "python",
   "pygments_lexer": "ipython3",
   "version": "3.9.12"
  },
  "toc": {
   "base_numbering": 1,
   "nav_menu": {},
   "number_sections": true,
   "sideBar": true,
   "skip_h1_title": false,
   "title_cell": "Table of Contents",
   "title_sidebar": "Contents",
   "toc_cell": false,
   "toc_position": {},
   "toc_section_display": true,
   "toc_window_display": false
  },
  "varInspector": {
   "cols": {
    "lenName": 16,
    "lenType": 16,
    "lenVar": 40
   },
   "kernels_config": {
    "python": {
     "delete_cmd_postfix": "",
     "delete_cmd_prefix": "del ",
     "library": "var_list.py",
     "varRefreshCmd": "print(var_dic_list())"
    },
    "r": {
     "delete_cmd_postfix": ") ",
     "delete_cmd_prefix": "rm(",
     "library": "var_list.r",
     "varRefreshCmd": "cat(var_dic_list()) "
    }
   },
   "types_to_exclude": [
    "module",
    "function",
    "builtin_function_or_method",
    "instance",
    "_Feature"
   ],
   "window_display": false
  }
 },
 "nbformat": 4,
 "nbformat_minor": 5
}
