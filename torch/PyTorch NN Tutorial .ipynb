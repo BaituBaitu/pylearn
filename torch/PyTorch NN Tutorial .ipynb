{
 "cells": [
  {
   "cell_type": "markdown",
   "id": "c7577875",
   "metadata": {},
   "source": [
    "## Datasets and Dataloaders\n",
    "https://pytorch.org/tutorials/beginner/basics/quickstart_tutorial.html\n",
    "PyTorch provides two data primitives: `torch.utils.data.DataLoader` and `torch.utils.data.Dataset` that allow you to use pre-loaded datasets as well as your own data.\n",
    "\n",
    "**Fashion-MNIST** \n",
    "- 28 pixels * 28 pixels\n",
    "- gray scale 0-255\n",
    "- 10 classes"
   ]
  },
  {
   "cell_type": "code",
   "execution_count": 7,
   "id": "d66820b4",
   "metadata": {
    "ExecuteTime": {
     "end_time": "2022-07-29T03:11:32.427259Z",
     "start_time": "2022-07-29T03:11:32.337492Z"
    }
   },
   "outputs": [],
   "source": [
    "from torchvision.transforms import ToTensor\n",
    "from torchvision import datasets\n",
    "from torch.utils.data import DataLoader\n",
    "from torch import nn\n",
    "import torch\n",
    "import matplotlib.pyplot as plt\n",
    "%matplotlib inline\n",
    "\n",
    "training_data = datasets.FashionMNIST(\n",
    "    root=\"data\",  # root 是train/test存储的位置\n",
    "    train=True,  # 表明是否是训练集   \n",
    "    download=True, # download=True downloads the data from the internet if it’s not available at root.\n",
    "    transform=ToTensor()\n",
    ")\n",
    "\n",
    "test_data = datasets.FashionMNIST(\n",
    "    root=\"data\",\n",
    "    train=False,\n",
    "    download=True,\n",
    "    transform=ToTensor()\n",
    ")"
   ]
  },
  {
   "cell_type": "markdown",
   "id": "79d220c7",
   "metadata": {},
   "source": [
    "每一条training_data是一个tuple，含有图片的tensor和label"
   ]
  },
  {
   "cell_type": "code",
   "execution_count": 3,
   "id": "e3826323",
   "metadata": {
    "ExecuteTime": {
     "end_time": "2022-07-29T02:56:14.238135Z",
     "start_time": "2022-07-29T02:56:14.227595Z"
    }
   },
   "outputs": [
    {
     "name": "stdout",
     "output_type": "stream",
     "text": [
      "torch.Size([1, 28, 28])\n",
      "label: 9\n"
     ]
    }
   ],
   "source": [
    "print(training_data[0][0].shape)\n",
    "print(f\"label: {training_data[0][1]}\")\n"
   ]
  },
  {
   "cell_type": "code",
   "execution_count": 26,
   "id": "f7964202",
   "metadata": {
    "ExecuteTime": {
     "end_time": "2022-07-29T07:32:38.296595Z",
     "start_time": "2022-07-29T07:32:35.662417Z"
    }
   },
   "outputs": [
    {
     "name": "stdout",
     "output_type": "stream",
     "text": [
      "Shape of X [N,C,H,W]: torch.Size([64, 1, 28, 28])\n",
      "shape of y: torch.Size([64]), torch.int64\n",
      "tensor([9, 2, 1, 1, 6, 1, 4, 6, 5, 7, 4, 5, 7, 3, 4, 1, 2, 4, 8, 0, 2, 5, 7, 9,\n",
      "        1, 4, 6, 0, 9, 3, 8, 8, 3, 3, 8, 0, 7, 5, 7, 9, 6, 1, 3, 7, 6, 7, 2, 1,\n",
      "        2, 2, 4, 4, 5, 8, 2, 2, 8, 4, 8, 0, 7, 7, 8, 5])\n"
     ]
    }
   ],
   "source": [
    "batchsize= 64\n",
    "# create data_loader\n",
    "train_dataloader = DataLoader(training_data, batchsize, shuffle=True, num_workers=4)\n",
    "test_dataloader = DataLoader(test_data, batchsize, num_workers=4)\n",
    "\n",
    "for X,y in test_dataloader:\n",
    "    print(f\"Shape of X [N,C,H,W]: {X.shape}\")\n",
    "    print(f\"shape of y: {y.shape}, {y.dtype}\")\n",
    "    print(y)\n",
    "    \n",
    "    break    \n"
   ]
  },
  {
   "cell_type": "code",
   "execution_count": 8,
   "id": "d59535b5",
   "metadata": {
    "ExecuteTime": {
     "end_time": "2022-07-29T03:11:37.228757Z",
     "start_time": "2022-07-29T03:11:36.907309Z"
    }
   },
   "outputs": [
    {
     "data": {
      "image/png": "[encoded data removed]",
      "text/plain": [
       "<Figure size 576x576 with 9 Axes>"
      ]
     },
     "metadata": {
      "needs_background": "light"
     },
     "output_type": "display_data"
    }
   ],
   "source": [
    "labels_map = {\n",
    "    0: \"T-Shirt\",\n",
    "    1: \"Trouser\",\n",
    "    2: \"Pullover\",\n",
    "    3: \"Dress\",\n",
    "    4: \"Coat\",\n",
    "    5: \"Sandal\",\n",
    "    6: \"Shirt\",\n",
    "    7: \"Sneaker\",\n",
    "    8: \"Bag\",\n",
    "    9: \"Ankle Boot\",\n",
    "}\n",
    "figure = plt.figure(figsize=(8, 8))\n",
    "cols, rows = 3, 3\n",
    "for i in range(1, cols * rows + 1):\n",
    "    sample_idx = torch.randint(len(training_data), size=(1,)).item()\n",
    "    img, label = training_data[sample_idx]\n",
    "    figure.add_subplot(rows, cols, i)\n",
    "    plt.title(labels_map[label])\n",
    "    plt.axis(\"off\")\n",
    "    plt.imshow(img.squeeze(), cmap=\"gray\")\n",
    "plt.show()"
   ]
  },
  {
   "cell_type": "markdown",
   "id": "38d6c055",
   "metadata": {},
   "source": [
    "## custom dataset for your project\n",
    "\n",
    "A custom Dataset class must implement three functions: `__init__`, `__len__`, and `__getitem__`. Take a look at this implementation; the FashionMNIST images are stored in a directory `img_dir`, and their labels are stored separately in a CSV file `annotations_file`.\n",
    "\n",
    "The labels.csv file looks like:\n",
    "\n",
    "> tshirt1.jpg, 0  \n",
    "> tshirt2.jpg, 0  \n",
    "> ......  \n",
    "> ankleboot999.jpg, 9  \n"
   ]
  },
  {
   "cell_type": "code",
   "execution_count": 14,
   "id": "db6edf53",
   "metadata": {
    "ExecuteTime": {
     "end_time": "2022-07-29T03:28:51.301199Z",
     "start_time": "2022-07-29T03:28:51.290350Z"
    }
   },
   "outputs": [],
   "source": [
    "import os\n",
    "import pandas as pd\n",
    "from torchvision.io import read_image\n",
    "from torch.utils.data import Dataset\n",
    "\n",
    "\n",
    "class CustomImageDataset(Dataset):\n",
    "    def __init__(self, annotations_file, img_dir, transform=None, target_transform=None):\n",
    "        self.img_labels = pd.read_csv(annotations_file)\n",
    "        self.img_dir = img_dir\n",
    "        self.transform = transform\n",
    "        self.target_transform = target_transform\n",
    "\n",
    "    def __len__(self):\n",
    "        return len(self.img_labels)\n",
    "\n",
    "    def __getitem__(self, idx):  \n",
    "        \"\"\"loads and returns a sample from the dataset at the given index idx.\"\"\"\n",
    "        img_path = os.path.join(self.img_dir, self.img_labels.iloc[idx, 0])\n",
    "        image = read_image(img_path)\n",
    "        label = self.image_labels.iloc[idx, 1]\n",
    "        if self.transform:\n",
    "            image = self.transform(image)\n",
    "        if self.target_transform:\n",
    "            label = self.target_transform(label)\n",
    "        return image, label"
   ]
  },
  {
   "cell_type": "markdown",
   "id": "69fe242f",
   "metadata": {},
   "source": [
    "## Preparing your data for training with DataLoaders\n",
    "\n",
    "\n"
   ]
  },
  {
   "cell_type": "code",
   "execution_count": 15,
   "id": "5a5e8b78",
   "metadata": {
    "ExecuteTime": {
     "end_time": "2022-07-29T06:17:14.003170Z",
     "start_time": "2022-07-29T06:17:13.998861Z"
    }
   },
   "outputs": [
    {
     "name": "stdout",
     "output_type": "stream",
     "text": [
      "using cpu device\n"
     ]
    }
   ],
   "source": [
    "device = 'cuda' if torch.cuda.is_available() else 'cpu'\n",
    "print(f\"Using {device} device\")\n"
   ]
  },
  {
   "cell_type": "code",
   "execution_count": 17,
   "id": "73429034",
   "metadata": {
    "ExecuteTime": {
     "end_time": "2022-07-29T06:41:20.338702Z",
     "start_time": "2022-07-29T06:41:20.325365Z"
    }
   },
   "outputs": [
    {
     "name": "stdout",
     "output_type": "stream",
     "text": [
      "NeuralNetwork(\n",
      "  (flatten): Flatten(start_dim=1, end_dim=-1)\n",
      "  (linear_relu_stack): Sequential(\n",
      "    (0): Linear(in_features=784, out_features=512, bias=True)\n",
      "    (1): ReLU()\n",
      "    (2): Linear(in_features=512, out_features=512, bias=True)\n",
      "    (3): ReLU()\n",
      "    (4): Linear(in_features=512, out_features=10, bias=True)\n",
      "  )\n",
      ")\n"
     ]
    }
   ],
   "source": [
    "class NeuralNetwork(nn.Module):\n",
    "    def __init__(self):\n",
    "        super(NeuralNetwork, self).__init__()\n",
    "        self.flatten = nn.Flatten()\n",
    "        self.linear_relu_stack = nn.Sequential(  # 各层的用法参考https://pytorch.org/tutorials/beginner/basics/buildmodel_tutorial.html\n",
    "            nn.Linear(28*28, 512),\n",
    "            nn.ReLU(),\n",
    "            nn.Linear(512,512),\n",
    "            nn.ReLU(),\n",
    "            nn.Linear(512, 10)\n",
    "        )\n",
    "        \n",
    "    def forward(self, x):\n",
    "        x = self.flatten(x)\n",
    "        logits = self.linear_relu_stack(x)\n",
    "        return logits\n",
    "\n",
    "\n",
    "model = NeuralNetwork().to(device)\n",
    "print(model)"
   ]
  },
  {
   "cell_type": "markdown",
   "id": "f10fbedd",
   "metadata": {},
   "source": [
    "更多loss function见nn module中 https://pytorch.org/docs/stable/nn.html#loss-functions\n",
    "\n",
    "更多的optimizer见torch.optim https://pytorch.org/docs/stable/optim.html"
   ]
  },
  {
   "cell_type": "code",
   "execution_count": 24,
   "id": "264cbbb0",
   "metadata": {
    "ExecuteTime": {
     "end_time": "2022-07-29T07:29:58.005297Z",
     "start_time": "2022-07-29T07:29:57.997351Z"
    }
   },
   "outputs": [],
   "source": [
    "loss_fn = nn.CrossEntropyLoss()  #交叉熵，用于分类问题，第一个参数是预测的softmax向量，第二个参数是真实的class label\n",
    "#  更多loss function见nn module中 https://pytorch.org/docs/stable/nn.html#loss-functions\n",
    "optimizer = torch.optim.SGD(model.parameters(), lr=1e-3)\n",
    "\n",
    "def train(dataloader, model, loss_fn, optimizer):\n",
    "    size = len(dataloader.dataset)\n",
    "    model.train()  # set model in train mode\n",
    "    for batch, (X, y) in enumerate(dataloader):\n",
    "        X, y = X.to(device), y.to(device)\n",
    "\n",
    "        pred = model(X)\n",
    "        loss = loss_fn(pred, y)\n",
    "\n",
    "        optimizer.zero_grad()\n",
    "        loss.backward()\n",
    "        optimizer.step()\n",
    "\n",
    "        if batch % 100 == 0:\n",
    "            loss, current = loss.item(), batch*len(X)\n",
    "            print(f\"loss:{loss:>7f} [{current:>5d}/{size:5d}]\")\n",
    "\n",
    "\n",
    "def test(dataloader, model, loss_fn):\n",
    "    size = len(dataloader.dataset)\n",
    "    num_batches = len(dataloader)\n",
    "    # set model in evaluation mode, This is equivalent with self.train(False).\n",
    "    model.eval()\n",
    "    testloss = 0\n",
    "    correct = 0\n",
    "    with torch.no_grad():\n",
    "        \"\"\"关于torch.no_grad()\n",
    "        Context-manager that disabled gradient calculation.\n",
    "        \n",
    "        Disabling gradient calculation is useful for inference, \n",
    "        when you are sure that you will not call Tensor.backward(). \n",
    "        It will reduce memory consumption for computations that \n",
    "        would otherwise have requires_grad=True.\n",
    "        \n",
    "        see also https://pytorch.org/docs/stable/generated/torch.no_grad.html\n",
    "        \"\"\" \n",
    "        for X,y in dataloader:\n",
    "            X, y= X.to(device), y.to(device)\n",
    "            pred= model(X)\n",
    "            testloss += loss_fn(pred, y)\n",
    "            correct += (pred.argmax(1) == y).type(torch.float).sum().item()\n",
    "    testloss /= num_batches\n",
    "    correct /= size\n",
    "    print(f\"test error: \\n Accurancy {(100*correct):>0.1f}%, avg loss: {testloss:>8f}\\n\")    \n",
    "    \n",
    "    \n",
    "    "
   ]
  },
  {
   "cell_type": "code",
   "execution_count": 25,
   "id": "7cb88301",
   "metadata": {
    "ExecuteTime": {
     "end_time": "2022-07-29T07:30:53.361308Z",
     "start_time": "2022-07-29T07:30:00.884058Z"
    },
    "collapsed": true
   },
   "outputs": [
    {
     "name": "stdout",
     "output_type": "stream",
     "text": [
      "Epoch 1\n",
      "-------------------------------\n",
      "loss:1.892647 [    0/60000]\n",
      "loss:1.854672 [ 6400/60000]\n",
      "loss:1.821297 [12800/60000]\n",
      "loss:1.807996 [19200/60000]\n",
      "loss:1.764158 [25600/60000]\n",
      "loss:1.648861 [32000/60000]\n",
      "loss:1.751082 [38400/60000]\n",
      "loss:1.647121 [44800/60000]\n",
      "loss:1.616072 [51200/60000]\n",
      "loss:1.527769 [57600/60000]\n",
      "test error: \n",
      " Accurancy 60.0%, avg loss: 1.561323\n",
      "\n",
      "Epoch 2\n",
      "-------------------------------\n",
      "loss:1.484269 [    0/60000]\n",
      "loss:1.605566 [ 6400/60000]\n",
      "loss:1.392220 [12800/60000]\n",
      "loss:1.410773 [19200/60000]\n",
      "loss:1.367193 [25600/60000]\n",
      "loss:1.509480 [32000/60000]\n",
      "loss:1.346368 [38400/60000]\n",
      "loss:1.395230 [44800/60000]\n",
      "loss:1.408124 [51200/60000]\n",
      "loss:1.422628 [57600/60000]\n",
      "test error: \n",
      " Accurancy 62.8%, avg loss: 1.283337\n",
      "\n",
      "Epoch 3\n",
      "-------------------------------\n",
      "loss:1.302583 [    0/60000]\n",
      "loss:1.367890 [ 6400/60000]\n",
      "loss:1.244787 [12800/60000]\n",
      "loss:1.326634 [19200/60000]\n",
      "loss:1.236747 [25600/60000]\n",
      "loss:1.149018 [32000/60000]\n",
      "loss:0.988895 [38400/60000]\n",
      "loss:1.153650 [44800/60000]\n",
      "loss:1.035073 [51200/60000]\n",
      "loss:1.072328 [57600/60000]\n",
      "test error: \n",
      " Accurancy 63.6%, avg loss: 1.110732\n",
      "\n",
      "Epoch 4\n",
      "-------------------------------\n",
      "loss:1.154492 [    0/60000]\n",
      "loss:1.006359 [ 6400/60000]\n",
      "loss:1.058436 [12800/60000]\n",
      "loss:1.024817 [19200/60000]\n",
      "loss:1.030077 [25600/60000]\n",
      "loss:1.154811 [32000/60000]\n",
      "loss:1.108360 [38400/60000]\n",
      "loss:0.988209 [44800/60000]\n",
      "loss:0.974998 [51200/60000]\n",
      "loss:1.120573 [57600/60000]\n",
      "test error: \n",
      " Accurancy 64.8%, avg loss: 0.999913\n",
      "\n",
      "Epoch 5\n",
      "-------------------------------\n",
      "loss:0.983234 [    0/60000]\n",
      "loss:1.077977 [ 6400/60000]\n",
      "loss:0.997310 [12800/60000]\n",
      "loss:1.096646 [19200/60000]\n",
      "loss:0.943936 [25600/60000]\n",
      "loss:0.889906 [32000/60000]\n",
      "loss:0.865582 [38400/60000]\n",
      "loss:0.906272 [44800/60000]\n",
      "loss:0.934629 [51200/60000]\n",
      "loss:1.088534 [57600/60000]\n",
      "test error: \n",
      " Accurancy 66.9%, avg loss: 0.923963\n",
      "\n",
      "Done!\n"
     ]
    }
   ],
   "source": [
    "epochs = 5\n",
    "for t in range(epochs):\n",
    "    print(f\"Epoch {t+1}\\n-------------------------------\")\n",
    "    train(train_dataloader, model, loss_fn, optimizer)\n",
    "    test(test_dataloader, model, loss_fn)\n",
    "print(\"Done!\")"
   ]
  },
  {
   "cell_type": "markdown",
   "id": "c8cca40b",
   "metadata": {},
   "source": [
    "## save &load models\n"
   ]
  },
  {
   "cell_type": "code",
   "execution_count": 27,
   "id": "0988b2ef",
   "metadata": {
    "ExecuteTime": {
     "end_time": "2022-07-29T08:10:37.377779Z",
     "start_time": "2022-07-29T08:10:37.357062Z"
    }
   },
   "outputs": [
    {
     "name": "stdout",
     "output_type": "stream",
     "text": [
      "Saved PyTorch Model State to model.pth\n"
     ]
    }
   ],
   "source": [
    "torch.save(model.state_dict(), \"model.pth\")  # 这样会存储在当前文件目录下\n",
    "print(\"Saved PyTorch Model State to model.pth\")"
   ]
  },
  {
   "cell_type": "markdown",
   "id": "37a59558",
   "metadata": {},
   "source": [
    "To load model weights, you need to create an instance of the same model first, and then load the parameters using `load_state_dict()` method."
   ]
  },
  {
   "cell_type": "code",
   "execution_count": 28,
   "id": "1c394576",
   "metadata": {
    "ExecuteTime": {
     "end_time": "2022-07-29T08:38:37.533955Z",
     "start_time": "2022-07-29T08:38:37.482464Z"
    }
   },
   "outputs": [
    {
     "name": "stdout",
     "output_type": "stream",
     "text": [
      "Predicted: \"Ankle boot\", Actual: \"Ankle boot\"\n"
     ]
    }
   ],
   "source": [
    "model = NeuralNetwork()\n",
    "model.load_state_dict(torch.load(\"model.pth\"))\n",
    "\n",
    "\n",
    "classes = [\n",
    "    \"T-shirt/top\",\n",
    "    \"Trouser\",\n",
    "    \"Pullover\",\n",
    "    \"Dress\",\n",
    "    \"Coat\",\n",
    "    \"Sandal\",\n",
    "    \"Shirt\",\n",
    "    \"Sneaker\",\n",
    "    \"Bag\",\n",
    "    \"Ankle boot\",\n",
    "]\n",
    "\n",
    "model.eval()\n",
    "x, y = test_data[0][0], test_data[0][1]\n",
    "with torch.no_grad():\n",
    "    pred = model(x)\n",
    "    predicted, actual = classes[pred[0].argmax(0)], classes[y]\n",
    "    print(f'Predicted: \"{predicted}\", Actual: \"{actual}\"')"
   ]
  },
  {
   "cell_type": "markdown",
   "id": "90a6e1f8",
   "metadata": {},
   "source": [
    "## Saving and Loading Models with Shapes\n",
    "\n",
    "When loading model weights, we needed to instantiate the model class first, because the class defines the structure of a network. We might want to save the structure of this class together with the model, in which case we can pass `model` (and not `model.state_dict()`) to the saving function:"
   ]
  },
  {
   "cell_type": "raw",
   "id": "c109d7d6",
   "metadata": {},
   "source": [
    "torch.save(model, 'model.pth')\n",
    "#  then load like:\n",
    "model = torch.load('model.pth')"
   ]
  },
  {
   "cell_type": "markdown",
   "id": "b14e4dc0",
   "metadata": {},
   "source": [
    "## Optimizing the model paramet|ers"
   ]
  },
  {
   "cell_type": "code",
   "execution_count": null,
   "id": "ffdca89d",
   "metadata": {},
   "outputs": [],
   "source": [
    "loss_fn = nn.CrossEntropyLoss()\n",
    "optimizer = torch.optim.SGD(model.parameters(), lr=1e-3)\n"
   ]
  },
  {
   "cell_type": "code",
   "execution_count": null,
   "id": "fc8a0340",
   "metadata": {},
   "outputs": [],
   "source": []
  },
  {
   "cell_type": "code",
   "execution_count": null,
   "id": "b989ea8f",
   "metadata": {},
   "outputs": [],
   "source": []
  },
  {
   "cell_type": "code",
   "execution_count": null,
   "id": "1393fe2f",
   "metadata": {},
   "outputs": [],
   "source": []
  }
 ],
 "metadata": {
  "kernelspec": {
   "display_name": "Python 3 (ipykernel)",
   "language": "python",
   "name": "python3"
  },
  "language_info": {
   "codemirror_mode": {
    "name": "ipython",
    "version": 3
   },
   "file_extension": ".py",
   "mimetype": "text/x-python",
   "name": "python",
   "nbconvert_exporter": "python",
   "pygments_lexer": "ipython3",
   "version": "3.9.12"
  },
  "toc": {
   "base_numbering": 1,
   "nav_menu": {},
   "number_sections": true,
   "sideBar": true,
   "skip_h1_title": false,
   "title_cell": "Table of Contents",
   "title_sidebar": "Contents",
   "toc_cell": false,
   "toc_position": {},
   "toc_section_display": true,
   "toc_window_display": false
  },
  "varInspector": {
   "cols": {
    "lenName": 16,
    "lenType": 16,
    "lenVar": 40
   },
   "kernels_config": {
    "python": {
     "delete_cmd_postfix": "",
     "delete_cmd_prefix": "del ",
     "library": "var_list.py",
     "varRefreshCmd": "print(var_dic_list())"
    },
    "r": {
     "delete_cmd_postfix": ") ",
     "delete_cmd_prefix": "rm(",
     "library": "var_list.r",
     "varRefreshCmd": "cat(var_dic_list()) "
    }
   },
   "types_to_exclude": [
    "module",
    "function",
    "builtin_function_or_method",
    "instance",
    "_Feature"
   ],
   "window_display": false
  }
 },
 "nbformat": 4,
 "nbformat_minor": 5
}
