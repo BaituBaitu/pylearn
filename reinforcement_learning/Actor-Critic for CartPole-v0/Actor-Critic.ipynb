{
 "cells": [
  {
   "cell_type": "markdown",
   "id": "69528f3c",
   "metadata": {},
   "source": [
    "本页面对于carpole-v0环境实现Actor-Critic算法，参考[《动手学强化学习》相关页面](https://hrl.boyuai.com/chapter/2/actor-critic算法)"
   ]
  },
  {
   "cell_type": "code",
   "execution_count": 3,
   "id": "91410a5c",
   "metadata": {
    "ExecuteTime": {
     "end_time": "2022-08-26T09:09:33.445128Z",
     "start_time": "2022-08-26T09:09:33.440195Z"
    }
   },
   "outputs": [],
   "source": [
    "import gym\n",
    "import torch\n",
    "import torch.nn.functional as F\n",
    "import numpy as np\n",
    "import matplotlib.pyplot as plt\n",
    "# import rl_utils"
   ]
  },
  {
   "cell_type": "markdown",
   "id": "aa83fe0b",
   "metadata": {},
   "source": [
    "定义策略网络policy network，用MLP，数据的shape为（batch_dim, n_actions），输入state输出是action上的概率分布，在cartpole-v0中是离散动作空间。"
   ]
  },
  {
   "cell_type": "code",
   "execution_count": 4,
   "id": "ffe798b0",
   "metadata": {
    "ExecuteTime": {
     "end_time": "2022-08-26T09:09:34.232951Z",
     "start_time": "2022-08-26T09:09:34.225955Z"
    }
   },
   "outputs": [],
   "source": [
    "class PolicyNet(torch.nn.Module):\n",
    "    def __init__(self, state_dim, hidden_dim, action_dim):\n",
    "        super(PolicyNet, self).__init__()\n",
    "        self.fc1 = torch.nn.Linear(state_dim, hidden_dim)\n",
    "        self.fc2 = torch.nn.Linear(hidden_dim, action_dim)\n",
    "\n",
    "    def forward(self, x):\n",
    "        x = F.relu(self.fc1(x))\n",
    "        return F.softmax(self.fc2(x), dim=1)"
   ]
  },
  {
   "cell_type": "markdown",
   "id": "4d94032b",
   "metadata": {},
   "source": []
  },
  {
   "cell_type": "code",
   "execution_count": 5,
   "id": "07ec41cc",
   "metadata": {
    "ExecuteTime": {
     "end_time": "2022-08-26T09:09:35.446213Z",
     "start_time": "2022-08-26T09:09:35.440461Z"
    }
   },
   "outputs": [],
   "source": [
    "class ValueNet(torch.nn.Module):\n",
    "    def __init__(self, state_dim, hidden_dim):\n",
    "        super(ValueNet, self).__init__()\n",
    "        self.fc1 = torch.nn.Linear(state_dim, hidden_dim)\n",
    "        self.fc2 = torch.nn.Linear(hidden_dim, 1)\n",
    "\n",
    "    def forward(self, x):\n",
    "        x = F.relu(self.fc1(x))\n",
    "        return self.fc2(x)"
   ]
  },
  {
   "cell_type": "code",
   "execution_count": null,
   "id": "19f251fd",
   "metadata": {},
   "outputs": [],
   "source": []
  }
 ],
 "metadata": {
  "kernelspec": {
   "display_name": "Python 3 (ipykernel)",
   "language": "python",
   "name": "python3"
  },
  "language_info": {
   "codemirror_mode": {
    "name": "ipython",
    "version": 3
   },
   "file_extension": ".py",
   "mimetype": "text/x-python",
   "name": "python",
   "nbconvert_exporter": "python",
   "pygments_lexer": "ipython3",
   "version": "3.9.12"
  },
  "toc": {
   "base_numbering": 1,
   "nav_menu": {},
   "number_sections": true,
   "sideBar": true,
   "skip_h1_title": false,
   "title_cell": "Table of Contents",
   "title_sidebar": "Contents",
   "toc_cell": false,
   "toc_position": {},
   "toc_section_display": true,
   "toc_window_display": false
  },
  "varInspector": {
   "cols": {
    "lenName": 16,
    "lenType": 16,
    "lenVar": 40
   },
   "kernels_config": {
    "python": {
     "delete_cmd_postfix": "",
     "delete_cmd_prefix": "del ",
     "library": "var_list.py",
     "varRefreshCmd": "print(var_dic_list())"
    },
    "r": {
     "delete_cmd_postfix": ") ",
     "delete_cmd_prefix": "rm(",
     "library": "var_list.r",
     "varRefreshCmd": "cat(var_dic_list()) "
    }
   },
   "types_to_exclude": [
    "module",
    "function",
    "builtin_function_or_method",
    "instance",
    "_Feature"
   ],
   "window_display": false
  }
 },
 "nbformat": 4,
 "nbformat_minor": 5
}
